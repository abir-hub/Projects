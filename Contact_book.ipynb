{
 "cells": [
  {
   "cell_type": "code",
   "execution_count": 8,
   "id": "79ce861e",
   "metadata": {},
   "outputs": [],
   "source": [
    "names = []\n",
    "phone_numbers = []\n"
   ]
  },
  {
   "cell_type": "code",
   "execution_count": 9,
   "id": "ce11123f",
   "metadata": {},
   "outputs": [],
   "source": [
    "def contact_book():\n",
    "    num = int(input(\"How many contact do you want to add\"))\n",
    "\n",
    "\n",
    "    for i in range(num):\n",
    "        name = input(\"Name: \")\n",
    "        phone_number = input(\"Phone Number: \") # for convert to int => int(input(\"Phone Number: \"))\n",
    "\n",
    "        names.append(name)\n",
    "        phone_numbers.append(phone_number)\n",
    "\n",
    "    print(\"\\nName\\t\\t\\tPhone Number\\n\")\n",
    "\n",
    "    for i in range(num):\n",
    "        print(\"{}\\t\\t\\t{}\".format(names[i], phone_numbers[i]))\n",
    "\n",
    "    search_term = input(\"\\nEnter search term: \")\n",
    "\n",
    "    print(\"Search result:\")\n",
    "\n",
    "    if search_term in names:\n",
    "        index = names.index(search_term)\n",
    "        phone_number = phone_numbers[index]\n",
    "        print(\"Name: {}, Phone Number: {}\".format(search_term, phone_number))\n",
    "\n",
    "    else:\n",
    "        print(\"Name Not Found\")"
   ]
  },
  {
   "cell_type": "code",
   "execution_count": 10,
   "id": "f2e0e33b",
   "metadata": {},
   "outputs": [
    {
     "name": "stdout",
     "output_type": "stream",
     "text": [
      "How many contact do you want to add3\n",
      "Name: Abir\n",
      "Phone Number: 1234567\n",
      "Name: Gita\n",
      "Phone Number: 9876541\n",
      "Name: Chandana\n",
      "Phone Number: 8529637\n",
      "\n",
      "Name\t\t\tPhone Number\n",
      "\n",
      "Abir\t\t\t1234567\n",
      "Gita\t\t\t9876541\n",
      "Chandana\t\t\t8529637\n",
      "\n",
      "Enter search term: A\n",
      "Search result:\n",
      "Name Not Found\n"
     ]
    }
   ],
   "source": [
    "contact_book()"
   ]
  },
  {
   "cell_type": "code",
   "execution_count": null,
   "id": "22da282f",
   "metadata": {},
   "outputs": [],
   "source": []
  }
 ],
 "metadata": {
  "kernelspec": {
   "display_name": "Python 3",
   "language": "python",
   "name": "python3"
  },
  "language_info": {
   "codemirror_mode": {
    "name": "ipython",
    "version": 3
   },
   "file_extension": ".py",
   "mimetype": "text/x-python",
   "name": "python",
   "nbconvert_exporter": "python",
   "pygments_lexer": "ipython3",
   "version": "3.8.8"
  }
 },
 "nbformat": 4,
 "nbformat_minor": 5
}
